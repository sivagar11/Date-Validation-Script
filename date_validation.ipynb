{
 "cells": [
  {
   "cell_type": "code",
   "execution_count": 2,
   "metadata": {},
   "outputs": [
    {
     "name": "stdout",
     "output_type": "stream",
     "text": [
      "Date: 10/10/2023 - Valid: True\n",
      "Date: 11/24/2021 11:54 AM - Valid: True\n",
      "Date: Feb 24, 2022 - Valid: True\n",
      "Date: Mar 12, 2022 - Valid: True\n",
      "Date: 3/28/2022dee - Valid: False\n",
      "Date: 3/24/2022 7:50 AM - Valid: True\n",
      "Date: 02-Apr-22 - Valid: True\n",
      "Date: June 16, 2022 - Valid: True\n"
     ]
    }
   ],
   "source": [
    "from datetime import datetime\n",
    "\n",
    "def validate_date_with_config(date_string, config_file_path):\n",
    "    def read_date_formats_from_config(file_path):\n",
    "        with open(file_path, 'r') as file:\n",
    "            date_formats = [line.strip() for line in file if line.strip()]\n",
    "        return date_formats\n",
    "\n",
    "    date_formats = read_date_formats_from_config(config_file_path)\n",
    "\n",
    "    for date_format in date_formats:\n",
    "        try:\n",
    "            datetime.strptime(date_string, date_format)\n",
    "            return True  # If the date matches any format, return True\n",
    "        except ValueError:\n",
    "            pass\n",
    "\n",
    "    return False  # If no format matches, return False\n",
    "\n",
    "# Example date strings to validate\n",
    "dates_to_validate = [\n",
    "    \"10/10/2023\",\n",
    "    \"11/24/2021 11:54 AM\",\n",
    "    \"Feb 24, 2022\",\n",
    "    \"Mar 12, 2022\",\n",
    "    \"3/28/2022dee\",\n",
    "    \"3/24/2022 7:50 AM\",\n",
    "    \"02-Apr-22\",\n",
    "    \"June 16, 2022\"\n",
    "]\n",
    "\n",
    "config_file_path = 'date_formats.txt'\n",
    "\n",
    "for date in dates_to_validate:\n",
    "    is_valid = validate_date_with_config(date, config_file_path)\n",
    "    print(f\"Date: {date} - Valid: {is_valid}\")\n"
   ]
  }
 ],
 "metadata": {
  "kernelspec": {
   "display_name": "base",
   "language": "python",
   "name": "python3"
  },
  "language_info": {
   "codemirror_mode": {
    "name": "ipython",
    "version": 3
   },
   "file_extension": ".py",
   "mimetype": "text/x-python",
   "name": "python",
   "nbconvert_exporter": "python",
   "pygments_lexer": "ipython3",
   "version": "3.10.12"
  }
 },
 "nbformat": 4,
 "nbformat_minor": 2
}
